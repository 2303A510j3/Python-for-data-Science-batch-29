{
  "nbformat": 4,
  "nbformat_minor": 0,
  "metadata": {
    "colab": {
      "provenance": [],
      "authorship_tag": "ABX9TyPUYfPnkR05qdLB3N0UtyGj",
      "include_colab_link": true
    },
    "kernelspec": {
      "name": "python3",
      "display_name": "Python 3"
    },
    "language_info": {
      "name": "python"
    }
  },
  "cells": [
    {
      "cell_type": "markdown",
      "metadata": {
        "id": "view-in-github",
        "colab_type": "text"
      },
      "source": [
        "<a href=\"https://colab.research.google.com/github/2303A510j3/Python-for-data-Science-batch-29/blob/main/Lab_3_Q2.ipynb\" target=\"_parent\"><img src=\"https://colab.research.google.com/assets/colab-badge.svg\" alt=\"Open In Colab\"/></a>"
      ]
    },
    {
      "cell_type": "code",
      "execution_count": 1,
      "metadata": {
        "id": "kKbpacYgMwf-"
      },
      "outputs": [],
      "source": [
        "import numpy as np\n",
        "import matplotlib.pyplot as plt"
      ]
    },
    {
      "cell_type": "code",
      "source": [
        "# Create random pixel values between 0–255\n",
        "image = np.random.randint(0, 256, (3, 3, 3), dtype=np.uint8)\n",
        "print(\"Original Image Matrix:\\n\", image)"
      ],
      "metadata": {
        "colab": {
          "base_uri": "https://localhost:8080/"
        },
        "id": "1rzToNLFNB11",
        "outputId": "40bcb9f3-e53b-47f8-b046-5feae056e06e"
      },
      "execution_count": 2,
      "outputs": [
        {
          "output_type": "stream",
          "name": "stdout",
          "text": [
            "Original Image Matrix:\n",
            " [[[ 69 191  53]\n",
            "  [190 215 195]\n",
            "  [180  29  65]]\n",
            "\n",
            " [[ 68  36 225]\n",
            "  [184 251   6]\n",
            "  [160 113  86]]\n",
            "\n",
            " [[136  49  68]\n",
            "  [162  87 155]\n",
            "  [253 242 145]]]\n"
          ]
        }
      ]
    },
    {
      "cell_type": "code",
      "source": [
        "red_channel   = image[:, :, 0]\n",
        "green_channel = image[:, :, 1]\n",
        "blue_channel  = image[:, :, 2]\n",
        "\n",
        "print(\"\\nRed Channel:\\n\", red_channel)\n",
        "print(\"\\nGreen Channel:\\n\", green_channel)\n",
        "print(\"\\nBlue Channel:\\n\", blue_channel)"
      ],
      "metadata": {
        "colab": {
          "base_uri": "https://localhost:8080/"
        },
        "id": "JbsI1XuGNKhg",
        "outputId": "f074b5f1-9985-421a-f822-c699e9bf38ad"
      },
      "execution_count": 3,
      "outputs": [
        {
          "output_type": "stream",
          "name": "stdout",
          "text": [
            "\n",
            "Red Channel:\n",
            " [[ 69 190 180]\n",
            " [ 68 184 160]\n",
            " [136 162 253]]\n",
            "\n",
            "Green Channel:\n",
            " [[191 215  29]\n",
            " [ 36 251 113]\n",
            " [ 49  87 242]]\n",
            "\n",
            "Blue Channel:\n",
            " [[ 53 195  65]\n",
            " [225   6  86]\n",
            " [ 68 155 145]]\n"
          ]
        }
      ]
    },
    {
      "cell_type": "code",
      "source": [
        "red_channel   = image[:, :, 0]\n",
        "green_channel = image[:, :, 1]\n",
        "blue_channel  = image[:, :, 2]\n",
        "\n",
        "print(\"\\nRed Channel:\\n\", red_channel)\n",
        "print(\"\\nGreen Channel:\\n\", green_channel)\n",
        "print(\"\\nBlue Channel:\\n\", blue_channel)\n",
        ""
      ],
      "metadata": {
        "colab": {
          "base_uri": "https://localhost:8080/"
        },
        "id": "SvL6z9NQNQrx",
        "outputId": "b4497913-4053-482f-ef28-6570df446810"
      },
      "execution_count": 4,
      "outputs": [
        {
          "output_type": "stream",
          "name": "stdout",
          "text": [
            "\n",
            "Red Channel:\n",
            " [[ 69 190 180]\n",
            " [ 68 184 160]\n",
            " [136 162 253]]\n",
            "\n",
            "Green Channel:\n",
            " [[191 215  29]\n",
            " [ 36 251 113]\n",
            " [ 49  87 242]]\n",
            "\n",
            "Blue Channel:\n",
            " [[ 53 195  65]\n",
            " [225   6  86]\n",
            " [ 68 155 145]]\n"
          ]
        }
      ]
    },
    {
      "cell_type": "code",
      "source": [
        "avg_red   = np.mean(red_channel)\n",
        "avg_green = np.mean(green_channel)\n",
        "avg_blue  = np.mean(blue_channel)\n",
        "\n",
        "print(\"\\nAverage Intensities:\")\n",
        "print(f\"Red: {avg_red:.2f}, Green: {avg_green:.2f}, Blue: {avg_blue:.2f}\")"
      ],
      "metadata": {
        "colab": {
          "base_uri": "https://localhost:8080/"
        },
        "id": "mOjF6EoONaf_",
        "outputId": "6ac4adbd-d5d5-4cc2-97fe-966e1b3801bb"
      },
      "execution_count": 5,
      "outputs": [
        {
          "output_type": "stream",
          "name": "stdout",
          "text": [
            "\n",
            "Average Intensities:\n",
            "Red: 155.78, Green: 134.78, Blue: 110.89\n"
          ]
        }
      ]
    },
    {
      "cell_type": "code",
      "source": [
        "brightened_image = np.clip(image + 50, 0, 255)\n",
        "print(\"\\nBrightened Image Matrix:\\n\", brightened_image)"
      ],
      "metadata": {
        "colab": {
          "base_uri": "https://localhost:8080/"
        },
        "id": "vMbIgIn5Nh-f",
        "outputId": "f86bf059-6b62-4793-da80-b30235168e53"
      },
      "execution_count": 6,
      "outputs": [
        {
          "output_type": "stream",
          "name": "stdout",
          "text": [
            "\n",
            "Brightened Image Matrix:\n",
            " [[[119 241 103]\n",
            "  [240   9 245]\n",
            "  [230  79 115]]\n",
            "\n",
            " [[118  86  19]\n",
            "  [234  45  56]\n",
            "  [210 163 136]]\n",
            "\n",
            " [[186  99 118]\n",
            "  [212 137 205]\n",
            "  [ 47  36 195]]]\n"
          ]
        }
      ]
    },
    {
      "cell_type": "code",
      "source": [
        "# Display as image\n",
        "plt.subplot(1, 2, 1)\n",
        "plt.imshow(image)\n",
        "plt.title(\"Original Image\")\n",
        "plt.axis('off')\n",
        "\n",
        "plt.subplot(1, 2, 2)\n",
        "plt.imshow(brightened_image)\n",
        "plt.title(\"Brightened Image\")\n",
        "plt.axis('off')\n",
        "\n",
        "plt.show()"
      ],
      "metadata": {
        "colab": {
          "base_uri": "https://localhost:8080/",
          "height": 284
        },
        "id": "zG9PWNE9Nj7L",
        "outputId": "eb3d9e0e-62e0-4608-93aa-570ba81e5775"
      },
      "execution_count": 7,
      "outputs": [
        {
          "output_type": "display_data",
          "data": {
            "text/plain": [
              "<Figure size 640x480 with 2 Axes>"
            ],
            "image/png": "[encoded data removed]"
          },
          "metadata": {}
        }
      ]
    },
    {
      "cell_type": "code",
      "source": [
        "plt.figure(figsize=(8, 3))\n",
        "\n",
        "plt.subplot(1, 3, 1)\n",
        "plt.imshow(red_channel, cmap='Reds')\n",
        "plt.title(\"Red Channel\")\n",
        "plt.axis('off')\n",
        "\n",
        "plt.subplot(1, 3, 2)\n",
        "plt.imshow(green_channel, cmap='Greens')\n",
        "plt.title(\"Green Channel\")\n",
        "plt.axis('off')\n",
        "\n",
        "plt.subplot(1, 3, 3)\n",
        "plt.imshow(blue_channel, cmap='Blues')\n",
        "plt.title(\"Blue Channel\")\n",
        "plt.axis('off')\n",
        "\n",
        "plt.show()"
      ],
      "metadata": {
        "colab": {
          "base_uri": "https://localhost:8080/",
          "height": 241
        },
        "id": "8JYY63jeNr4_",
        "outputId": "bbbde85d-3bd2-4de7-fa8e-c6becdd2048f"
      },
      "execution_count": 8,
      "outputs": [
        {
          "output_type": "display_data",
          "data": {
            "text/plain": [
              "<Figure size 800x300 with 3 Axes>"
            ],
            "image/png": "[encoded data removed]"
          },
          "metadata": {}
        }
      ]
    }
  ]
}