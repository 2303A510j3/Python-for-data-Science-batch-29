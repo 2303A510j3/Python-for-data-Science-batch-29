{
  "nbformat": 4,
  "nbformat_minor": 0,
  "metadata": {
    "colab": {
      "provenance": [],
      "authorship_tag": "ABX9TyPk16zZNNs3LvYVy2agKtRa",
      "include_colab_link": true
    },
    "kernelspec": {
      "name": "python3",
      "display_name": "Python 3"
    },
    "language_info": {
      "name": "python"
    }
  },
  "cells": [
    {
      "cell_type": "markdown",
      "metadata": {
        "id": "view-in-github",
        "colab_type": "text"
      },
      "source": [
        "<a href=\"https://colab.research.google.com/github/2303A510j3/Python-for-data-Science-batch-29/blob/main/Lab_3_Q1.ipynb\" target=\"_parent\"><img src=\"https://colab.research.google.com/assets/colab-badge.svg\" alt=\"Open In Colab\"/></a>"
      ]
    },
    {
      "cell_type": "code",
      "execution_count": 1,
      "metadata": {
        "colab": {
          "base_uri": "https://localhost:8080/"
        },
        "id": "geK1GAOAKlHn",
        "outputId": "2c7311ed-636c-4ac7-f273-ba393712e0a0"
      },
      "outputs": [
        {
          "output_type": "stream",
          "name": "stdout",
          "text": [
            "Test Scores (4x4):\n",
            " [[59 86 65 50]\n",
            " [99 78 75 79]\n",
            " [98 79 99 58]\n",
            " [59 50 92 90]]\n"
          ]
        }
      ],
      "source": [
        "import numpy as np\n",
        "\n",
        "# --------------------------\n",
        "# 1. Generate 4x4 Test Score Array\n",
        "# --------------------------\n",
        "np.random.seed(10)  # for reproducibility\n",
        "scores = np.random.randint(50, 100, size=(4, 4))  # Test scores between 50-100\n",
        "print(\"Test Scores (4x4):\\n\", scores)\n"
      ]
    },
    {
      "cell_type": "code",
      "source": [
        "# --------------------------\n",
        "row_mean = np.mean(scores, axis=1)\n",
        "col_mean = np.mean(scores, axis=0)\n",
        "print(\"\\nRow-wise Mean:\", row_mean)\n",
        "print(\"Column-wise Mean:\", col_mean)\n"
      ],
      "metadata": {
        "colab": {
          "base_uri": "https://localhost:8080/"
        },
        "id": "2chrTqQkKz4I",
        "outputId": "68c8db6f-16db-4fa4-d1e9-3a8595cbd0c1"
      },
      "execution_count": 2,
      "outputs": [
        {
          "output_type": "stream",
          "name": "stdout",
          "text": [
            "\n",
            "Row-wise Mean: [65.   82.75 83.5  72.75]\n",
            "Column-wise Mean: [78.75 73.25 82.75 69.25]\n"
          ]
        }
      ]
    },
    {
      "cell_type": "code",
      "source": [
        "std_dev = np.std(scores)\n",
        "variance = np.var(scores)\n",
        "print(\"\\nStandard Deviation:\", std_dev)\n",
        "print(\"Variance:\", variance)\n"
      ],
      "metadata": {
        "colab": {
          "base_uri": "https://localhost:8080/"
        },
        "id": "SLGep8kzK8KN",
        "outputId": "8f0ee2dd-9d8f-4a6f-abb3-ffb4f03d9b2d"
      },
      "execution_count": 3,
      "outputs": [
        {
          "output_type": "stream",
          "name": "stdout",
          "text": [
            "\n",
            "Standard Deviation: 16.75559608011604\n",
            "Variance: 280.75\n"
          ]
        }
      ]
    },
    {
      "cell_type": "code",
      "source": [
        "global_max = np.max(scores)\n",
        "global_min = np.min(scores)\n",
        "max_index = np.unravel_index(np.argmax(scores), scores.shape)\n",
        "min_index = np.unravel_index(np.argmin(scores), scores.shape)\n",
        "print(\"\\nGlobal Max:\", global_max, \"at index\", max_index)\n",
        "print(\"Global Min:\", global_min, \"at index\", min_index)\n"
      ],
      "metadata": {
        "colab": {
          "base_uri": "https://localhost:8080/"
        },
        "id": "xM2-slGHLCRp",
        "outputId": "b6a12c44-a4a7-439d-a565-519ceadda9fa"
      },
      "execution_count": 4,
      "outputs": [
        {
          "output_type": "stream",
          "name": "stdout",
          "text": [
            "\n",
            "Global Max: 99 at index (np.int64(1), np.int64(0))\n",
            "Global Min: 50 at index (np.int64(0), np.int64(3))\n"
          ]
        }
      ]
    },
    {
      "cell_type": "code",
      "source": [
        "print(\"\\n--- Summary ---\")\n",
        "print(f\"Row-wise Mean Scores: {row_mean}\")\n",
        "print(f\"Column-wise Mean Scores: {col_mean}\")\n",
        "print(f\"Overall Standard Deviation: {std_dev:.2f}\")\n",
        "print(f\"Overall Variance: {variance:.2f}\")\n",
        "print(f\"Highest Score: {global_max} at {max_index}\")\n",
        "print(f\"Lowest Score: {global_min} at {min_index}\")\n"
      ],
      "metadata": {
        "colab": {
          "base_uri": "https://localhost:8080/"
        },
        "id": "CQSYoXNkLKhf",
        "outputId": "1c627388-7e9f-47cc-b91f-e04aa43a7fc6"
      },
      "execution_count": 5,
      "outputs": [
        {
          "output_type": "stream",
          "name": "stdout",
          "text": [
            "\n",
            "--- Summary ---\n",
            "Row-wise Mean Scores: [65.   82.75 83.5  72.75]\n",
            "Column-wise Mean Scores: [78.75 73.25 82.75 69.25]\n",
            "Overall Standard Deviation: 16.76\n",
            "Overall Variance: 280.75\n",
            "Highest Score: 99 at (np.int64(1), np.int64(0))\n",
            "Lowest Score: 50 at (np.int64(0), np.int64(3))\n"
          ]
        }
      ]
    }
  ]
}